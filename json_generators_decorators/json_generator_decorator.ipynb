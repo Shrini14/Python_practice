{
 "cells": [
  {
   "cell_type": "markdown",
   "id": "8db972a9",
   "metadata": {},
   "source": [
    "<h2 align=\"center\" style=\"color:blue\">Exercise - JSON, Generators, Decorators</h2>"
   ]
  },
  {
   "cell_type": "markdown",
   "id": "19e6c089-394e-4180-80c9-95e8aa647171",
   "metadata": {},
   "source": [
    "**Loki** appreciates and conveys thank you for the help you provided with his previous ad-hoc tasks.\n",
    "\n",
    "As you've handled things well, he has some slightly more advanced ad-hoc tasks for you below.\n",
    "\n",
    "Have fun working on them! 😜"
   ]
  },
  {
   "cell_type": "markdown",
   "id": "95ff4e7d",
   "metadata": {},
   "source": [
    "### Task 1: Client Sales Data\n",
    "\n",
    "**Scenario:**  One of the Python developers, who was handling a retail client, went on vacation. However, the client has an urgent requirement to understand their sales data. Loki reached out to you for help with this. The sales records are stored in JSON format, detailing products, quantities sold, and sales categories.\n",
    "\n",
    "\n",
    "1. Load sales data from ```sales_data.json``` into a dictionary.\n",
    "\n",
    "   \n",
    "This task helps you provide actionable business insights from raw sales data."
   ]
  },
  {
   "cell_type": "code",
   "execution_count": 2,
   "id": "58c1c79a",
   "metadata": {},
   "outputs": [
    {
     "name": "stdout",
     "output_type": "stream",
     "text": [
      "[{'product': 'Laptop', 'category': 'Electronics', 'quantity': 15, 'price_per_unit': 1200}, {'product': 'Jeans', 'category': 'Apparel', 'quantity': 40, 'price_per_unit': 50}, {'product': 'Blender', 'category': 'Home Appliances', 'quantity': 25, 'price_per_unit': 150}, {'product': 'Smartphone', 'category': 'Electronics', 'quantity': 30, 'price_per_unit': 800}, {'product': 'Jacket', 'category': 'Apparel', 'quantity': 20, 'price_per_unit': 120}]\n"
     ]
    }
   ],
   "source": [
    "# write your code here\n",
    "import json\n",
    "with open(\"D:\\data science bootcamp\\python\\Assignment_JSON_Generators_Decorators\\sales_data.json\",\"r\") as f:\n",
    "    data = json.load(f)\n",
    "print(data)"
   ]
  },
  {
   "cell_type": "code",
   "execution_count": 4,
   "id": "92ed32fb",
   "metadata": {},
   "outputs": [
    {
     "data": {
      "text/plain": [
       "list"
      ]
     },
     "execution_count": 4,
     "metadata": {},
     "output_type": "execute_result"
    }
   ],
   "source": [
    "type(data)"
   ]
  },
  {
   "cell_type": "code",
   "execution_count": 10,
   "id": "062e6d56",
   "metadata": {},
   "outputs": [
    {
     "name": "stdout",
     "output_type": "stream",
     "text": [
      "{'Laptop': {'product': 'Laptop', 'category': 'Electronics', 'quantity': 15, 'price_per_unit': 1200}, 'Jeans': {'product': 'Jeans', 'category': 'Apparel', 'quantity': 40, 'price_per_unit': 50}, 'Blender': {'product': 'Blender', 'category': 'Home Appliances', 'quantity': 25, 'price_per_unit': 150}, 'Smartphone': {'product': 'Smartphone', 'category': 'Electronics', 'quantity': 30, 'price_per_unit': 800}, 'Jacket': {'product': 'Jacket', 'category': 'Apparel', 'quantity': 20, 'price_per_unit': 120}}\n"
     ]
    }
   ],
   "source": [
    "sales_dict = {item[\"product\"]:item for item in data}\n",
    "print(sales_dict)"
   ]
  },
  {
   "cell_type": "code",
   "execution_count": 12,
   "id": "5c9417d6",
   "metadata": {},
   "outputs": [
    {
     "data": {
      "text/plain": [
       "{'product': 'Laptop',\n",
       " 'category': 'Electronics',\n",
       " 'quantity': 15,\n",
       " 'price_per_unit': 1200}"
      ]
     },
     "execution_count": 12,
     "metadata": {},
     "output_type": "execute_result"
    }
   ],
   "source": [
    "sales_dict[\"Laptop\"]"
   ]
  },
  {
   "cell_type": "code",
   "execution_count": 13,
   "id": "6de6c995",
   "metadata": {},
   "outputs": [
    {
     "data": {
      "text/plain": [
       "5"
      ]
     },
     "execution_count": 13,
     "metadata": {},
     "output_type": "execute_result"
    }
   ],
   "source": [
    "len(sales_dict)"
   ]
  },
  {
   "cell_type": "markdown",
   "id": "a8a49eba",
   "metadata": {},
   "source": [
    "### Task 2: Calculate and Display Total Sales by Category\n",
    "\n",
    "**Scenario:** Continuing your role, after successfully loading and organizing the sales data from a retail client, your next step is to provide a breakdown of total sales per category.\n",
    "\n",
    "1. Aggregate this data by product category to calculate total sales per category.\n",
    "2. Print the results, showing the total sales for each product category."
   ]
  },
  {
   "cell_type": "code",
   "execution_count": 17,
   "id": "bf8f9a2f",
   "metadata": {},
   "outputs": [
    {
     "data": {
      "text/plain": [
       "[{'product': 'Laptop',\n",
       "  'category': 'Electronics',\n",
       "  'quantity': 15,\n",
       "  'price_per_unit': 1200},\n",
       " {'product': 'Jeans',\n",
       "  'category': 'Apparel',\n",
       "  'quantity': 40,\n",
       "  'price_per_unit': 50},\n",
       " {'product': 'Blender',\n",
       "  'category': 'Home Appliances',\n",
       "  'quantity': 25,\n",
       "  'price_per_unit': 150},\n",
       " {'product': 'Smartphone',\n",
       "  'category': 'Electronics',\n",
       "  'quantity': 30,\n",
       "  'price_per_unit': 800},\n",
       " {'product': 'Jacket',\n",
       "  'category': 'Apparel',\n",
       "  'quantity': 20,\n",
       "  'price_per_unit': 120}]"
      ]
     },
     "execution_count": 17,
     "metadata": {},
     "output_type": "execute_result"
    }
   ],
   "source": [
    "#total sales=quantity×price_per_unit\n",
    "data"
   ]
  },
  {
   "cell_type": "code",
   "execution_count": 23,
   "id": "cec25c2c",
   "metadata": {},
   "outputs": [
    {
     "name": "stdout",
     "output_type": "stream",
     "text": [
      "{'Home Appliances': 3750, 'Apparel': 4400, 'Electronics': 42000}\n"
     ]
    }
   ],
   "source": [
    "sales = {\n",
    "    category: sum(item[\"quantity\"] * item[\"price_per_unit\"]\n",
    "                  for item in data if item[\"category\"] == category)\n",
    "    for category in {item[\"category\"] for item in data}\n",
    "}\n",
    "\n",
    "print(sales)\n"
   ]
  },
  {
   "cell_type": "markdown",
   "id": "4edb28b4",
   "metadata": {},
   "source": [
    "### Task 3: Output Aggregated Sales Data to JSON File\n",
    "\n",
    "**Scenario:** Building on your previous work, where you calculated total sales by category, your client now requires this information in a structured digital format for integration into their business systems.\n",
    "\n",
    "1. Generate a JSON file named ```aggregated_sales.json``` containing the total sales data by category.\n",
    "2. Ensure the data is formatted as a list of dictionaries, each representing a category and its corresponding total sales.\n",
    "   \n",
    "**Expected JSON Output Format:**\n",
    "\n",
    "```\n",
    "[\n",
    "    {\n",
    "        \"category\": \"Electronics\",\n",
    "        \"total_sales\": 42000\n",
    "    },\n",
    "    {\n",
    "        \"category\": \"Apparel\",\n",
    "        \"total_sales\": 4400\n",
    "    },\n",
    "    {\n",
    "        \"category\": \"Home Appliances\",\n",
    "        \"total_sales\": 3750\n",
    "    }\n",
    "]\n",
    "```"
   ]
  },
  {
   "cell_type": "code",
   "execution_count": 28,
   "id": "cd05174a",
   "metadata": {},
   "outputs": [],
   "source": [
    "aggregated_sales = [{\"category\": cat, \"total_sales\": total} for cat, total in sales.items()]"
   ]
  },
  {
   "cell_type": "code",
   "execution_count": 30,
   "id": "1a000254",
   "metadata": {},
   "outputs": [
    {
     "name": "stdout",
     "output_type": "stream",
     "text": [
      " aggregated_sales1.json created successfully!\n"
     ]
    }
   ],
   "source": [
    "# write your code here\n",
    "with open (\"aggregated_sales1.json\",\"w\") as f:\n",
    "    json.dump(aggregated_sales,f,indent=4)\n",
    "print(\" aggregated_sales1.json created successfully!\")"
   ]
  },
  {
   "cell_type": "markdown",
   "id": "fcada7bc",
   "metadata": {},
   "source": [
    "### Task 4: Monitor and Filter Temperature Readings\n",
    "\n",
    "**Scenario:** At **AtliQ**, your next ad-hoc task involves monitoring equipment sensor data to promptly identify any readings that suggest potential overheating. The sensor data file ```sensor_data.txt``` is so HUGE that you can't read it all at once (For this exercise we have given a small file but just assume that in real life such a file will be pretty HUGE).\n",
    "\n",
    "**Objective:** Develop a Python program with a generator function `read_and_filter_temperatures` that efficiently processes this large dataset by:\n",
    "\n",
    "1. Taking two parameters: ```filename``` (the name of the sensor data file) and ```threshold``` (the temperature limit that indicates overheating).\n",
    "2. Yielding temperatures that exceed the specified threshold.\n",
    "3. Printing each critical temperature reading as it's identified to allow immediate action."
   ]
  },
  {
   "cell_type": "code",
   "execution_count": 36,
   "id": "76aea479",
   "metadata": {},
   "outputs": [],
   "source": [
    "def read_and_filter_temperatures(filename, threshold):\n",
    "    \"\"\"Yield temperatures above threshold from a CSV-style sensor file.\"\"\"\n",
    "    with open(\"D:\\data science bootcamp\\python\\Assignment_JSON_Generators_Decorators\\sensor_data.txt\", \"r\") as f:\n",
    "        for line in f:\n",
    "            parts = line.strip().split(\",\")  \n",
    "            if len(parts) != 2:\n",
    "                continue\n",
    "            try:\n",
    "                temp = float(parts[1])\n",
    "                if temp > threshold:\n",
    "                    yield parts[0], temp   \n",
    "            except ValueError:\n",
    "                continue"
   ]
  },
  {
   "cell_type": "code",
   "execution_count": 37,
   "id": "680f465b",
   "metadata": {},
   "outputs": [
    {
     "name": "stdout",
     "output_type": "stream",
     "text": [
      "sensor1 critical temperature: 21.8\n",
      "sensor3 critical temperature: 22.5\n",
      "sensor1 critical temperature: 24.1\n"
     ]
    }
   ],
   "source": [
    "threshold = 20.0\n",
    "\n",
    "for sensor, temp in read_and_filter_temperatures(filename, threshold):\n",
    "    print(f\"{sensor} critical temperature: {temp}\")"
   ]
  },
  {
   "cell_type": "markdown",
   "id": "a1e66533",
   "metadata": {},
   "source": [
    "### Task 5: Optimize API Usage with Caching for Client Financial Data Retrieval\n",
    "\n",
    "At AtliQ, you have been assigned to work on a new ad-hoc task for a client project involving a FINTECH company. Your task is to retrieve the company name based on the company's ticker. For example, for the ticker \"AAPL\", the company name will be \"Apple Inc.\". \n",
    "\n",
    "You are using the Bloomberg API for this, and each API call costs money. To reduce expenses, you want to implement a caching function using a decorator so that if a company name has previously been retrieved, it will be fetched from the cache; otherwise, an API call will be made. We don't have an actual API for this exercise, but we've provided you with a function called `get_company_name`, for which you can assume that every call incurs a cost, and your goal is to minimize the number of calls.\n",
    "\n",
    "You will write a decorator,\n",
    "\n",
    "```\n",
    "def cache_decorator(func):\n",
    "```\n",
    "\n",
    "And annotate the main function\n",
    "```\n",
    "@cache_decorator\n",
    "def get_company_name(ticker):\n",
    "```"
   ]
  },
  {
   "cell_type": "code",
   "execution_count": 38,
   "id": "168dcaf0",
   "metadata": {},
   "outputs": [],
   "source": [
    "def get_company_name_api(ticker):\n",
    "    \"\"\"Simulated API function to fetch a company name based on the ticker symbol.\"\"\"\n",
    "    # Simulate different responses based on the ticker symbol\n",
    "    api_responses = {\n",
    "        \"AAPL\": \"Apple Inc.\",\n",
    "        \"MSFT\": \"Microsoft Corporation\",\n",
    "        \"GOOGL\": \"Alphabet Inc.\"\n",
    "    }\n",
    "    return api_responses.get(ticker, \"Unknown Company\")"
   ]
  },
  {
   "cell_type": "code",
   "execution_count": 39,
   "id": "7ee2dedc-9044-4e62-8353-c6458efdd92d",
   "metadata": {},
   "outputs": [
    {
     "name": "stdout",
     "output_type": "stream",
     "text": [
      "Apple Inc.\n",
      " Using cached data for AAPL\n",
      "Apple Inc.\n",
      "Microsoft Corporation\n",
      " Using cached data for MSFT\n",
      "Microsoft Corporation\n",
      "Alphabet Inc.\n",
      " Using cached data for GOOGL\n",
      "Alphabet Inc.\n"
     ]
    }
   ],
   "source": [
    "def cache_decorator(func):\n",
    "    cache = {}  \n",
    "\n",
    "    def wrapper(ticker):\n",
    "        if ticker in cache:\n",
    "            #\n",
    "            print(f\" Using cached data for {ticker}\")\n",
    "            return cache[ticker]\n",
    "        \n",
    "        result = func(ticker)\n",
    "        cache[ticker] = result\n",
    "        return result\n",
    "\n",
    "    return wrapper\n",
    "\n",
    "\n",
    "@cache_decorator\n",
    "def get_company_name(ticker):\n",
    "    return get_company_name_api(ticker)\n",
    "    \n",
    "\n",
    "# Test the decorated function\n",
    "print(get_company_name(\"AAPL\"))  # Expected to trigger an API call\n",
    "print(get_company_name(\"AAPL\"))  # Expected to use cached data\n",
    "print(get_company_name(\"MSFT\"))  # Expected to trigger an API call\n",
    "print(get_company_name(\"MSFT\"))  # Expected to use cached data\n",
    "print(get_company_name(\"GOOGL\"))  # Expected to trigger an API call\n",
    "print(get_company_name(\"GOOGL\"))  # Expected to use cached data"
   ]
  },
  {
   "cell_type": "code",
   "execution_count": null,
   "id": "62587d5c",
   "metadata": {},
   "outputs": [],
   "source": []
  }
 ],
 "metadata": {
  "kernelspec": {
   "display_name": "Python 3.10 (GPU)",
   "language": "python",
   "name": "python310gpu"
  },
  "language_info": {
   "codemirror_mode": {
    "name": "ipython",
    "version": 3
   },
   "file_extension": ".py",
   "mimetype": "text/x-python",
   "name": "python",
   "nbconvert_exporter": "python",
   "pygments_lexer": "ipython3",
   "version": "3.10.0"
  }
 },
 "nbformat": 4,
 "nbformat_minor": 5
}
