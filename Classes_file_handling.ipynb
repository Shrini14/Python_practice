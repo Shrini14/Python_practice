{
 "cells": [
  {
   "cell_type": "markdown",
   "metadata": {},
   "source": [
    "<h2 align=\"center\" style=\"color:blue\">Classes & File Handling</h2>"
   ]
  },
  {
   "cell_type": "markdown",
   "metadata": {},
   "source": [
    "**Background:** AtliQ, a software-based service company, operates an internal library to support the continuous learning and development of its employees. The library contains various types of items, such as books and journals, available for borrowing.\n",
    "\n",
    "**Problem Statement:** Celina, the librarian at AtliQ, currently handles the logistics of borrowing and returning items manually, which includes managing the status of each item and handling exceptions like borrowing attempts on items that are already loaned out. Your task is to assist Celina by automating part of her workload by completing the following tasks using Python."
   ]
  },
  {
   "cell_type": "markdown",
   "metadata": {},
   "source": [
    "### Task 1: Implement the LibraryItem Class\n",
    "\n",
    "**Scenario:** Help Celina automate the borrowing and returning process for items in AtliQ's library.\n",
    "\n",
    "**Task:** Create a Python class ```LibraryItem``` with the following structure:\n",
    "\n",
    "**Attributes:**\n",
    "\n",
    "```title:``` Name of the item. \n",
    "\n",
    "```is_borrowed:``` Boolean, True if borrowed, False otherwise.\n",
    "\n",
    "**Methods:**\n",
    "\n",
    "```borrow_item()```: If is_borrowed is True, raise an exception\n",
    "\n",
    "```raise Exception(f\"The item '{self.title}' is already borrowed.\")```\n",
    "\n",
    "Otherwise, set ```is_borrowed``` to True.\n",
    "\n",
    "```return_item()``` should also have a similar logic."
   ]
  },
  {
   "cell_type": "code",
   "execution_count": 40,
   "metadata": {},
   "outputs": [],
   "source": [
    "# write your code here\n",
    "\n",
    "class LibraryItem:\n",
    "    def __init__ (self,title,is_borrowed=False):\n",
    "        self.title = title\n",
    "        self.is_borrowed = is_borrowed\n",
    "    \n",
    "    def borrow_item(self):\n",
    "        if self.is_borrowed == True:\n",
    "            print(f\"The item '{self.title}' is already borrowed.\")\n",
    "        else:\n",
    "            self.is_borrowed = True\n",
    "            print(f\"You have successfully borrowed '{self.title}'.\")\n",
    "    \n",
    "    def return_item(self):\n",
    "        if self.is_borrowed == False:\n",
    "            print(f\"The item '{self.title}' was not borrowed. \")\n",
    "        else:\n",
    "            self.is_borrowed = False\n",
    "            print(f\"You have sucessfully returned '{self.title}'.\")\n",
    "            \n",
    "            \n",
    "            \n",
    "                \n",
    "\n"
   ]
  },
  {
   "cell_type": "markdown",
   "metadata": {},
   "source": [
    "### Task 2: Create the Book Class\n",
    "\n",
    "**Scenario:** Celina at AtliQ's library needs to catalog books separately from other items to provide detailed information, including the authors' names.\n",
    "\n",
    "**Task:** Develop a derived class Book from ```LibraryItem``` to manage books with additional details.\n",
    "\n",
    "**Details:**\n",
    "\n",
    "**1. Attributes:**\n",
    "\n",
    "- Inherits all attributes from ```LibraryItem```.\n",
    "\n",
    "- ```author```: Name of the book's author.\n",
    "\n",
    "**2. Implementation:**\n",
    "\n",
    "- Create an object of the Book class with:\n",
    "    - ```title```: \"The Magic of Thinking Big\"\n",
    "    - ```author```: \"David Schwartz\"\n",
    "\n",
    "This will help Celina keep a more detailed inventory and enhance the library’s catalog system. "
   ]
  },
  {
   "cell_type": "code",
   "execution_count": 41,
   "metadata": {},
   "outputs": [],
   "source": [
    "# write your code here\n",
    "class Book(LibraryItem):\n",
    "    def __init__ (self,title,author,is_borrowed = False):\n",
    "        super(). __init__(title,is_borrowed)\n",
    "        self.author = author\n",
    "\n",
    "    def __str__ (self):\n",
    "        return f\"Book Title : {self.title}, Author : {self.author}\"\n"
   ]
  },
  {
   "cell_type": "code",
   "execution_count": 42,
   "metadata": {},
   "outputs": [
    {
     "name": "stdout",
     "output_type": "stream",
     "text": [
      "Book Title : The Magic Of Thinking Big, Author : David Schwartz\n"
     ]
    }
   ],
   "source": [
    "book1 = Book(\"The Magic Of Thinking Big\",\"David Schwartz\")\n",
    "print(book1)\n"
   ]
  },
  {
   "cell_type": "code",
   "execution_count": 43,
   "metadata": {},
   "outputs": [
    {
     "name": "stdout",
     "output_type": "stream",
     "text": [
      "You have successfully borrowed 'The Magic Of Thinking Big'.\n",
      "Book Title : The Magic Of Thinking Big, Author : David Schwartz\n"
     ]
    }
   ],
   "source": [
    "book1.borrow_item()\n",
    "print(book1)"
   ]
  },
  {
   "cell_type": "code",
   "execution_count": 44,
   "metadata": {},
   "outputs": [
    {
     "name": "stdout",
     "output_type": "stream",
     "text": [
      "Book Title : Atomic Habits, Author : James Clear\n"
     ]
    }
   ],
   "source": [
    "book2 = Book(\"Atomic Habits\", \"James Clear\")\n",
    "print(book2)"
   ]
  },
  {
   "cell_type": "code",
   "execution_count": 45,
   "metadata": {},
   "outputs": [
    {
     "name": "stdout",
     "output_type": "stream",
     "text": [
      "You have successfully borrowed 'Atomic Habits'.\n"
     ]
    }
   ],
   "source": [
    "book2.borrow_item()"
   ]
  },
  {
   "cell_type": "code",
   "execution_count": 46,
   "metadata": {},
   "outputs": [
    {
     "name": "stdout",
     "output_type": "stream",
     "text": [
      "You have sucessfully returned 'Atomic Habits'.\n"
     ]
    }
   ],
   "source": [
    "book2.return_item()"
   ]
  },
  {
   "cell_type": "code",
   "execution_count": 47,
   "metadata": {},
   "outputs": [
    {
     "name": "stdout",
     "output_type": "stream",
     "text": [
      "Book Title : Atomic Habits, Author : James Clear\n"
     ]
    }
   ],
   "source": [
    "print(book2)"
   ]
  },
  {
   "cell_type": "markdown",
   "metadata": {},
   "source": [
    "### Task 3: Create the Journal Class\n",
    "\n",
    "**Scenario:** Celina needs to manage journals effectively in AtliQ's library, where each journal has specific issues that are often requested by staff for their research and development work.\n",
    "\n",
    "**Task:** Develop a derived class ```Journal``` from ```LibraryItem``` to manage journals with specific issue numbers.\n",
    "\n",
    "**Details:**\n",
    "\n",
    "**1. Attributes:**\n",
    "\n",
    "- Inherits all attributes from ```LibraryItem```.\n",
    "- ```issue_number```: The specific issue number of the journal.\n",
    "\n",
    "**2. Implementation:**\n",
    "\n",
    "- Create an object of the Journal class with:\n",
    "    - ```title```: \"Nature\"\n",
    "    - ```issue_number``` : 50\n",
    "\n",
    "This setup will help Celina organize journals by issue number, making them easier to locate and manage."
   ]
  },
  {
   "cell_type": "code",
   "execution_count": 48,
   "metadata": {},
   "outputs": [],
   "source": [
    "# write your code here\n",
    "class Journal(LibraryItem):\n",
    "    def __init__ (self,title,issue_number,is_borrowed = False):\n",
    "        super(). __init__(title,is_borrowed)\n",
    "        self.issue_number = issue_number\n",
    "        \n",
    "    def __str__ (self):\n",
    "        return f\"Journal Title : {self.title}, Issue Number : {self.issue_number}\"\n",
    "\n"
   ]
  },
  {
   "cell_type": "code",
   "execution_count": 49,
   "metadata": {},
   "outputs": [],
   "source": [
    "journal1 = Journal(\"Nature\",50)"
   ]
  },
  {
   "cell_type": "code",
   "execution_count": 50,
   "metadata": {},
   "outputs": [
    {
     "name": "stdout",
     "output_type": "stream",
     "text": [
      "Journal Title : Nature, Issue Number : 50\n"
     ]
    }
   ],
   "source": [
    "print(journal1)"
   ]
  },
  {
   "cell_type": "code",
   "execution_count": 51,
   "metadata": {},
   "outputs": [
    {
     "name": "stdout",
     "output_type": "stream",
     "text": [
      "You have successfully borrowed 'Nature'.\n"
     ]
    }
   ],
   "source": [
    "journal1.borrow_item()"
   ]
  },
  {
   "cell_type": "code",
   "execution_count": 52,
   "metadata": {},
   "outputs": [
    {
     "name": "stdout",
     "output_type": "stream",
     "text": [
      "You have sucessfully returned 'Nature'.\n"
     ]
    }
   ],
   "source": [
    "journal1.return_item()"
   ]
  },
  {
   "cell_type": "markdown",
   "metadata": {},
   "source": [
    "### Task 4: Handle Borrowing Exceptions\n",
    "\n",
    "**Scenario:** Celina sometimes gets requests to borrow a book that’s already borrowed. To prevent this, we need to handle this situation in our code.\n",
    "\n",
    "**Task:** Try borrowing the same book twice and handle the exception that occurs.\n",
    "\n",
    "**Details:**\n",
    "\n",
    "**1. Process:**\n",
    "\n",
    "- Use the Book object from Task 2.\n",
    "- Attempt to borrow the book two times in a row.\n",
    "\n",
    "**2. Exception Handling:**\n",
    "\n",
    "- Catch the exception raised when trying to borrow it the second time.\n",
    "- Print the exception message.\n",
    "\n",
    "This will help Celina prevent errors when someone tries to borrow an already borrowed book."
   ]
  },
  {
   "cell_type": "code",
   "execution_count": 53,
   "metadata": {},
   "outputs": [],
   "source": [
    "# write your code here\n",
    "book3 = Book(\"Deep Work\",\"Cal Newport\")\n",
    "\n"
   ]
  },
  {
   "cell_type": "code",
   "execution_count": 54,
   "metadata": {},
   "outputs": [
    {
     "name": "stdout",
     "output_type": "stream",
     "text": [
      "Book Title : Deep Work, Author : Cal Newport\n"
     ]
    }
   ],
   "source": [
    "print(book3)"
   ]
  },
  {
   "cell_type": "code",
   "execution_count": 55,
   "metadata": {},
   "outputs": [
    {
     "name": "stdout",
     "output_type": "stream",
     "text": [
      "You have successfully borrowed 'Deep Work'.\n"
     ]
    }
   ],
   "source": [
    "book3.borrow_item()"
   ]
  },
  {
   "cell_type": "code",
   "execution_count": 56,
   "metadata": {},
   "outputs": [
    {
     "name": "stdout",
     "output_type": "stream",
     "text": [
      "The item 'Deep Work' is already borrowed.\n"
     ]
    }
   ],
   "source": [
    "book3.borrow_item()"
   ]
  },
  {
   "cell_type": "markdown",
   "metadata": {},
   "source": [
    "### Task 5: Handle Return Exceptions\n",
    "\n",
    "**Scenario:** Celina sometimes faces issues when someone tries to return a journal that hasn’t been borrowed yet. This creates an opportunity to ensure such mistakes are handled gracefully.\n",
    "\n",
    "**Task:** Simulate and handle the exception when trying to return a journal that has not been borrowed.\n",
    "\n",
    "**Details:**\n",
    "\n",
    "**1. Process:**\n",
    "\n",
    "- Use the Journal object from Task 3.\n",
    "- Attempt to return the journal without it being borrowed first.\n",
    "\n",
    "**2. Exception Handling:**\n",
    "\n",
    "- Catch the exception that occurs when trying to return the un-borrowed journal.\n",
    "- Print the exception message.\n",
    "\n",
    "This will assist Celina in managing return processes more efficiently and prevent unnecessary errors."
   ]
  },
  {
   "cell_type": "code",
   "execution_count": 57,
   "metadata": {},
   "outputs": [
    {
     "name": "stdout",
     "output_type": "stream",
     "text": [
      "You have sucessfully returned 'Deep Work'.\n"
     ]
    }
   ],
   "source": [
    "# write your code here\n",
    "book3.return_item()"
   ]
  },
  {
   "cell_type": "code",
   "execution_count": 58,
   "metadata": {},
   "outputs": [
    {
     "name": "stdout",
     "output_type": "stream",
     "text": [
      "The item 'Deep Work' was not borrowed. \n"
     ]
    }
   ],
   "source": [
    "book3.return_item()"
   ]
  },
  {
   "cell_type": "code",
   "execution_count": null,
   "metadata": {},
   "outputs": [],
   "source": []
  }
 ],
 "metadata": {
  "colab": {
   "collapsed_sections": [],
   "name": "1_Variables.ipynb",
   "provenance": []
  },
  "kernelspec": {
   "display_name": "Python 3.10 (GPU)",
   "language": "python",
   "name": "python310gpu"
  },
  "language_info": {
   "codemirror_mode": {
    "name": "ipython",
    "version": 3
   },
   "file_extension": ".py",
   "mimetype": "text/x-python",
   "name": "python",
   "nbconvert_exporter": "python",
   "pygments_lexer": "ipython3",
   "version": "3.10.0"
  }
 },
 "nbformat": 4,
 "nbformat_minor": 4
}
